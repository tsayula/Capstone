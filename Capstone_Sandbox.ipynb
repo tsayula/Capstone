{
  "nbformat": 4,
  "nbformat_minor": 0,
  "metadata": {
    "colab": {
      "name": "Capstone Sandbox.ipynb",
      "provenance": [],
      "toc_visible": true,
      "authorship_tag": "ABX9TyPR2Ia/KHG6WnRF/ALyfhsv",
      "include_colab_link": true
    },
    "kernelspec": {
      "name": "python3",
      "display_name": "Python 3"
    },
    "language_info": {
      "name": "python"
    }
  },
  "cells": [
    {
      "cell_type": "markdown",
      "metadata": {
        "id": "view-in-github",
        "colab_type": "text"
      },
      "source": [
        "<a href=\"https://colab.research.google.com/github/tsayula/Capstone/blob/main/Capstone_Sandbox.ipynb\" target=\"_parent\"><img src=\"https://colab.research.google.com/assets/colab-badge.svg\" alt=\"Open In Colab\"/></a>"
      ]
    },
    {
      "cell_type": "code",
      "metadata": {
        "colab": {
          "base_uri": "https://localhost:8080/"
        },
        "id": "81WejbVEZxac",
        "outputId": "3419f7b6-daf0-4b22-9f7e-fd9dd4b85212"
      },
      "source": [
        "from google.colab import drive\n",
        "drive.mount('/content/gdrive')"
      ],
      "execution_count": 3,
      "outputs": [
        {
          "output_type": "stream",
          "text": [
            "Mounted at /content/gdrive\n"
          ],
          "name": "stdout"
        }
      ]
    },
    {
      "cell_type": "code",
      "metadata": {
        "id": "_WVxlO7kZ0zB"
      },
      "source": [
        "import os\n",
        "os.environ['KAGGLE_CONFIG_DIR'] = \"/content/gdrive/My Drive/Kaggle\"\n",
        "# /content/gdrive/My Drive/Kaggle is the path where kaggle.json is present in the Google Drive"
      ],
      "execution_count": 4,
      "outputs": []
    },
    {
      "cell_type": "code",
      "metadata": {
        "colab": {
          "base_uri": "https://localhost:8080/"
        },
        "id": "jWPbcf-KaB7G",
        "outputId": "4efbf978-7e47-43b3-e0b7-84948a9c6cf5"
      },
      "source": [
        "#changing the working directory\n",
        "%cd /content/gdrive/My Drive/Kaggle\n",
        "#Check the present working directory using pwd command"
      ],
      "execution_count": 5,
      "outputs": [
        {
          "output_type": "stream",
          "text": [
            "/content/gdrive/My Drive/Kaggle\n"
          ],
          "name": "stdout"
        }
      ]
    },
    {
      "cell_type": "code",
      "metadata": {
        "colab": {
          "base_uri": "https://localhost:8080/"
        },
        "id": "kb42c_hgaR9I",
        "outputId": "15b21e38-58b5-43f6-dc77-d6fba477e3ba"
      },
      "source": [
        "!kaggle datasets download -d arpitjain007/game-of-deep-learning-ship-datasets"
      ],
      "execution_count": 6,
      "outputs": [
        {
          "output_type": "stream",
          "text": [
            "Downloading game-of-deep-learning-ship-datasets.zip to /content/gdrive/My Drive/Kaggle\n",
            " 85% 69.0M/80.9M [00:00<00:00, 79.3MB/s]\n",
            "100% 80.9M/80.9M [00:01<00:00, 83.0MB/s]\n"
          ],
          "name": "stdout"
        }
      ]
    },
    {
      "cell_type": "code",
      "metadata": {
        "colab": {
          "base_uri": "https://localhost:8080/"
        },
        "id": "BZs-OC_eaZQ5",
        "outputId": "ebe4b866-e6f0-48dd-c532-a0cf317cd47f"
      },
      "source": [
        "!ls"
      ],
      "execution_count": 7,
      "outputs": [
        {
          "output_type": "stream",
          "text": [
            "game-of-deep-learning-ship-datasets.zip  sample_submission_ns2btKE.csv\ttrain\n",
            "kaggle.json\t\t\t\t test_ApKoW4T.csv\n"
          ],
          "name": "stdout"
        }
      ]
    },
    {
      "cell_type": "code",
      "metadata": {
        "colab": {
          "base_uri": "https://localhost:8080/"
        },
        "id": "7JQyMBGkah7F",
        "outputId": "2d4bbd5a-5cfb-43b6-84f2-c7695d636ebf"
      },
      "source": [
        "#unzipping the zip files and deleting the zip files\n",
        "!unzip \\*.zip  && rm *.zip\n"
      ],
      "execution_count": 8,
      "outputs": [
        {
          "output_type": "stream",
          "text": [
            "Archive:  game-of-deep-learning-ship-datasets.zip\n",
            "replace sample_submission_ns2btKE.csv? [y]es, [n]o, [A]ll, [N]one, [r]ename: N\n"
          ],
          "name": "stdout"
        }
      ]
    },
    {
      "cell_type": "code",
      "metadata": {
        "colab": {
          "base_uri": "https://localhost:8080/"
        },
        "id": "nQenJEf0beJ6",
        "outputId": "fc4ed8c9-d56d-4412-ebfc-13ba6c960565"
      },
      "source": [
        "\n",
        "\n",
        "\n",
        "!ls"
      ],
      "execution_count": 9,
      "outputs": [
        {
          "output_type": "stream",
          "text": [
            "kaggle.json  sample_submission_ns2btKE.csv  test_ApKoW4T.csv  train\n"
          ],
          "name": "stdout"
        }
      ]
    },
    {
      "cell_type": "code",
      "metadata": {
        "id": "6SujJuMybqfi"
      },
      "source": [
        "import pandas as pd\n",
        "import numpy as np\n",
        "import keras_preprocessing.image"
      ],
      "execution_count": 10,
      "outputs": []
    },
    {
      "cell_type": "code",
      "metadata": {
        "id": "9Yv6NQuNgT6r"
      },
      "source": [
        "import sys\n",
        "import os\n",
        "import random\n",
        "from pathlib import Path"
      ],
      "execution_count": 11,
      "outputs": []
    },
    {
      "cell_type": "code",
      "metadata": {
        "id": "qOcDP6lKgiru"
      },
      "source": [
        "# Image processing\n",
        "import imageio\n",
        "import cv2\n",
        "import skimage.transform\n",
        "\n",
        "# Charts\n",
        "import matplotlib.pyplot as plt\n",
        "import seaborn as sns\n",
        "plt.style.use('fivethirtyeight')\n",
        "\n",
        "\n",
        "# ML, statistics\n",
        "import scipy\n",
        "from sklearn.model_selection import train_test_split\n",
        "from sklearn import metrics\n",
        "from sklearn.metrics import confusion_matrix, roc_curve, auc, roc_auc_score"
      ],
      "execution_count": 12,
      "outputs": []
    },
    {
      "cell_type": "code",
      "metadata": {
        "id": "yhbDRwvurYpy"
      },
      "source": [
        "from keras.models import Sequential\n",
        "#Import from keras_preprocessing not from keras.preprocessing\n",
        "from keras_preprocessing.image import ImageDataGenerator, array_to_img, img_to_array, load_img\n",
        "from keras.layers import Dense, Activation, Flatten, Dropout, BatchNormalization\n",
        "from keras.layers import Conv2D, MaxPooling2D\n",
        "from keras import regularizers, optimizers"
      ],
      "execution_count": 13,
      "outputs": []
    },
    {
      "cell_type": "code",
      "metadata": {
        "colab": {
          "base_uri": "https://localhost:8080/"
        },
        "id": "BOAMWjr2kMYr",
        "outputId": "6a11febf-bc5e-46fd-f31c-2993f6b967d4"
      },
      "source": [
        "import os\n",
        "print(os.listdir(\"/content/gdrive/My Drive/Kaggle\"))\n",
        "toy= False"
      ],
      "execution_count": 14,
      "outputs": [
        {
          "output_type": "stream",
          "text": [
            "['sample_submission_ns2btKE.csv', 'test_ApKoW4T.csv', 'kaggle.json', 'train']\n"
          ],
          "name": "stdout"
        }
      ]
    },
    {
      "cell_type": "code",
      "metadata": {
        "id": "2pbrEsX2QZXw"
      },
      "source": [
        "\n",
        "ship_images= (os.listdir(\"/content/gdrive/My Drive/Kaggle/train/images\"))\n"
      ],
      "execution_count": 19,
      "outputs": []
    },
    {
      "cell_type": "code",
      "metadata": {
        "colab": {
          "base_uri": "https://localhost:8080/"
        },
        "id": "QfPlhDvGsEOv",
        "outputId": "e62da0e6-b21e-4974-877d-77a8299e44b8"
      },
      "source": [
        "!ls"
      ],
      "execution_count": 47,
      "outputs": [
        {
          "output_type": "stream",
          "text": [
            "kaggle.json  sample_submission_ns2btKE.csv  test_ApKoW4T.csv  train\n"
          ],
          "name": "stdout"
        }
      ]
    },
    {
      "cell_type": "code",
      "metadata": {
        "id": "6J_C-fMRRcoX"
      },
      "source": [
        "for ship in ship_images: \n",
        "  if ship.split('.')[0]!= 'jpg':\n",
        "    print(ship)\n",
        "  "
      ],
      "execution_count": null,
      "outputs": []
    },
    {
      "cell_type": "code",
      "metadata": {
        "colab": {
          "base_uri": "https://localhost:8080/"
        },
        "id": "iyh7j2Y7UyOQ",
        "outputId": "c6315522-868c-4cf8-be90-769dac6eebc7"
      },
      "source": [
        ""
      ],
      "execution_count": 48,
      "outputs": [
        {
          "output_type": "stream",
          "text": [
            "8932\n"
          ],
          "name": "stdout"
        }
      ]
    },
    {
      "cell_type": "code",
      "metadata": {
        "id": "0k3vXBJAU9dl"
      },
      "source": [
        "from google.colab import drive\n",
        "drive.mount('/content/drive')"
      ],
      "execution_count": null,
      "outputs": []
    },
    {
      "cell_type": "markdown",
      "metadata": {
        "id": "wJS9v_jzVEhn"
      },
      "source": [
        "# New Section"
      ]
    },
    {
      "cell_type": "code",
      "metadata": {
        "colab": {
          "base_uri": "https://localhost:8080/",
          "height": 35
        },
        "id": "UxGRzOo8SJDc",
        "outputId": "857a508c-8c6f-44a0-de41-d278a522628d"
      },
      "source": [
        "ship_images[0].split('.')[1]"
      ],
      "execution_count": 46,
      "outputs": [
        {
          "output_type": "execute_result",
          "data": {
            "application/vnd.google.colaboratory.intrinsic+json": {
              "type": "string"
            },
            "text/plain": [
              "'jpg'"
            ]
          },
          "metadata": {
            "tags": []
          },
          "execution_count": 46
        }
      ]
    },
    {
      "cell_type": "code",
      "metadata": {
        "id": "SbOwr827rv2k"
      },
      "source": [
        "def append_extension(fn):\n",
        "  return fn + \".jpg\""
      ],
      "execution_count": 48,
      "outputs": []
    },
    {
      "cell_type": "code",
      "metadata": {
        "id": "_X6AHeZ_r6Gz"
      },
      "source": [
        "train_df= pd.read_csv(\"train/train.csv\", dtype= str)\n",
        "test_df= pd.read_csv('sample_submission_ns2btKE.csv', dtype= str)\n",
        "\n",
        "train_df['image']= train_df['image'].apply(append_extension)\n",
        "test_df['image']= test_df['image'].apply(append_extension)\n",
        "\n",
        "data_generator= ImageDataGenerator(rescale= 1./255., validation_split=0.25)"
      ],
      "execution_count": 63,
      "outputs": []
    },
    {
      "cell_type": "code",
      "metadata": {
        "colab": {
          "base_uri": "https://localhost:8080/"
        },
        "id": "MJmd9PtBt4f3",
        "outputId": "46368c35-91fc-4e96-8efe-2e65e4093e31"
      },
      "source": [
        "train_generator= data_generator.flow_from_dataframe(\n",
        "    dataframe=train_df, directory= '/train/images', x_col='image', y_col= 'category', subset= 'training', target_size=(64, 64),\n",
        "     batch_size=29, seed= 42, shuffle= True,  class_mode='categorical', validate_filenames=False\n",
        ")\n",
        "validation_generator= data_generator.flow_from_dataframe(\n",
        "    dataframe=train_df, directory= '/train/images', x_col='image', y_col= 'category', subset= 'validation', target_size=(64,64),\n",
        "     batch_size= 29, seed= 42, shuffle= True,  class_mode='categorical', validate_filenames=False\n",
        ")\n",
        "\n",
        "test_data_generator= ImageDataGenerator(rescale= 1./255.)\n",
        "\n",
        "test_generator= data_generator.flow_from_dataframe(\n",
        "    dataframe= test_df, directory= 'test_ApKoW4T.csv', x_col='image', y_col= None, subset= 'validation', target_size=(64,64),\n",
        "     batch_size= 29, seed= 42, shuffle= False,  class_mode= None, validate_filenames=False\n",
        ")"
      ],
      "execution_count": 70,
      "outputs": [
        {
          "output_type": "stream",
          "text": [
            "Found 4689 non-validated image filenames belonging to 5 classes.\n",
            "Found 1563 non-validated image filenames belonging to 5 classes.\n",
            "Found 670 non-validated image filenames.\n"
          ],
          "name": "stdout"
        }
      ]
    },
    {
      "cell_type": "code",
      "metadata": {
        "colab": {
          "base_uri": "https://localhost:8080/"
        },
        "id": "n5P6FU-b7ETD",
        "outputId": "254ea8ea-47bd-48d2-f953-c25b09687df8"
      },
      "source": [
        "print('Number of Samples: ', train_generator.samples)\n",
        "print('Number of Classes: ', len(set(train_generator.classes)))\n",
        "print('Number of Samples per Class (roughly): ', int(train_generator.samples)/len(train_generator.class_indices))"
      ],
      "execution_count": 79,
      "outputs": [
        {
          "output_type": "stream",
          "text": [
            "Number of Samples:  4689\n",
            "Number of Classes:  5\n",
            "Number of Samples per Class (roughly):  937.8\n"
          ],
          "name": "stdout"
        }
      ]
    },
    {
      "cell_type": "code",
      "metadata": {
        "id": "4iLwdl5nklot"
      },
      "source": [
        "all_df= pd.read_csv('train/train.csv')\n",
        "if toy:\n",
        "  all_df= all_df.sample(8932)"
      ],
      "execution_count": 32,
      "outputs": []
    },
    {
      "cell_type": "code",
      "metadata": {
        "colab": {
          "base_uri": "https://localhost:8080/",
          "height": 204
        },
        "id": "aXXYQwyRlwnn",
        "outputId": "ea8eb578-cc1b-4379-a92e-5476807975c8"
      },
      "source": [
        "all_df.head()"
      ],
      "execution_count": 33,
      "outputs": [
        {
          "output_type": "execute_result",
          "data": {
            "text/html": [
              "<div>\n",
              "<style scoped>\n",
              "    .dataframe tbody tr th:only-of-type {\n",
              "        vertical-align: middle;\n",
              "    }\n",
              "\n",
              "    .dataframe tbody tr th {\n",
              "        vertical-align: top;\n",
              "    }\n",
              "\n",
              "    .dataframe thead th {\n",
              "        text-align: right;\n",
              "    }\n",
              "</style>\n",
              "<table border=\"1\" class=\"dataframe\">\n",
              "  <thead>\n",
              "    <tr style=\"text-align: right;\">\n",
              "      <th></th>\n",
              "      <th>image</th>\n",
              "      <th>category</th>\n",
              "    </tr>\n",
              "  </thead>\n",
              "  <tbody>\n",
              "    <tr>\n",
              "      <th>0</th>\n",
              "      <td>2823080.jpg</td>\n",
              "      <td>1</td>\n",
              "    </tr>\n",
              "    <tr>\n",
              "      <th>1</th>\n",
              "      <td>2870024.jpg</td>\n",
              "      <td>1</td>\n",
              "    </tr>\n",
              "    <tr>\n",
              "      <th>2</th>\n",
              "      <td>2662125.jpg</td>\n",
              "      <td>2</td>\n",
              "    </tr>\n",
              "    <tr>\n",
              "      <th>3</th>\n",
              "      <td>2900420.jpg</td>\n",
              "      <td>3</td>\n",
              "    </tr>\n",
              "    <tr>\n",
              "      <th>4</th>\n",
              "      <td>2804883.jpg</td>\n",
              "      <td>2</td>\n",
              "    </tr>\n",
              "  </tbody>\n",
              "</table>\n",
              "</div>"
            ],
            "text/plain": [
              "         image  category\n",
              "0  2823080.jpg         1\n",
              "1  2870024.jpg         1\n",
              "2  2662125.jpg         2\n",
              "3  2900420.jpg         3\n",
              "4  2804883.jpg         2"
            ]
          },
          "metadata": {
            "tags": []
          },
          "execution_count": 33
        }
      ]
    },
    {
      "cell_type": "code",
      "metadata": {
        "colab": {
          "base_uri": "https://localhost:8080/",
          "height": 320
        },
        "id": "PtM03UYOk0hb",
        "outputId": "3f120a25-e969-4a2a-8b3c-51c049c65df2"
      },
      "source": [
        "all_df.category.value_counts(ascending=True).plot(kind='bar')\n",
        "plt.title('Image Category Counts')\n",
        "plt.xlabel('Category')\n",
        "plt.ylabel('Count')\n",
        "plt.show()"
      ],
      "execution_count": 80,
      "outputs": [
        {
          "output_type": "display_data",
          "data": {
            "image/png": "[encoded data removed]",
            "text/plain": [
              "<Figure size 432x288 with 1 Axes>"
            ]
          },
          "metadata": {
            "tags": []
          }
        }
      ]
    },
    {
      "cell_type": "code",
      "metadata": {
        "colab": {
          "base_uri": "https://localhost:8080/"
        },
        "id": "wHx65qJdorBP",
        "outputId": "ba6a95b8-a5cd-49ad-c4cb-af37447afd28"
      },
      "source": [
        ""
      ],
      "execution_count": 42,
      "outputs": [
        {
          "output_type": "stream",
          "text": [
            "kaggle.json  sample_submission_ns2btKE.csv  test_ApKoW4T.csv  train\n"
          ],
          "name": "stdout"
        }
      ]
    },
    {
      "cell_type": "code",
      "metadata": {
        "id": "g3S5F9cjcA04"
      },
      "source": [
        "#getting all the training data(8932 images)\n",
        "train_data_dir= 'train'\n"
      ],
      "execution_count": 12,
      "outputs": []
    },
    {
      "cell_type": "code",
      "metadata": {
        "colab": {
          "base_uri": "https://localhost:8080/",
          "height": 419
        },
        "id": "h4o3058W_iKd",
        "outputId": "5ec7fca9-83c6-4302-d399-9179a4e1012f"
      },
      "source": [
        "all_df"
      ],
      "execution_count": 87,
      "outputs": [
        {
          "output_type": "execute_result",
          "data": {
            "text/html": [
              "<div>\n",
              "<style scoped>\n",
              "    .dataframe tbody tr th:only-of-type {\n",
              "        vertical-align: middle;\n",
              "    }\n",
              "\n",
              "    .dataframe tbody tr th {\n",
              "        vertical-align: top;\n",
              "    }\n",
              "\n",
              "    .dataframe thead th {\n",
              "        text-align: right;\n",
              "    }\n",
              "</style>\n",
              "<table border=\"1\" class=\"dataframe\">\n",
              "  <thead>\n",
              "    <tr style=\"text-align: right;\">\n",
              "      <th></th>\n",
              "      <th>image</th>\n",
              "      <th>category</th>\n",
              "    </tr>\n",
              "  </thead>\n",
              "  <tbody>\n",
              "    <tr>\n",
              "      <th>0</th>\n",
              "      <td>2823080.jpg</td>\n",
              "      <td>1</td>\n",
              "    </tr>\n",
              "    <tr>\n",
              "      <th>1</th>\n",
              "      <td>2870024.jpg</td>\n",
              "      <td>1</td>\n",
              "    </tr>\n",
              "    <tr>\n",
              "      <th>2</th>\n",
              "      <td>2662125.jpg</td>\n",
              "      <td>2</td>\n",
              "    </tr>\n",
              "    <tr>\n",
              "      <th>3</th>\n",
              "      <td>2900420.jpg</td>\n",
              "      <td>3</td>\n",
              "    </tr>\n",
              "    <tr>\n",
              "      <th>4</th>\n",
              "      <td>2804883.jpg</td>\n",
              "      <td>2</td>\n",
              "    </tr>\n",
              "    <tr>\n",
              "      <th>...</th>\n",
              "      <td>...</td>\n",
              "      <td>...</td>\n",
              "    </tr>\n",
              "    <tr>\n",
              "      <th>6247</th>\n",
              "      <td>2881056.jpg</td>\n",
              "      <td>3</td>\n",
              "    </tr>\n",
              "    <tr>\n",
              "      <th>6248</th>\n",
              "      <td>1145083.jpg</td>\n",
              "      <td>2</td>\n",
              "    </tr>\n",
              "    <tr>\n",
              "      <th>6249</th>\n",
              "      <td>2898652.jpg</td>\n",
              "      <td>5</td>\n",
              "    </tr>\n",
              "    <tr>\n",
              "      <th>6250</th>\n",
              "      <td>2868175.jpg</td>\n",
              "      <td>3</td>\n",
              "    </tr>\n",
              "    <tr>\n",
              "      <th>6251</th>\n",
              "      <td>2784171.jpg</td>\n",
              "      <td>1</td>\n",
              "    </tr>\n",
              "  </tbody>\n",
              "</table>\n",
              "<p>6252 rows × 2 columns</p>\n",
              "</div>"
            ],
            "text/plain": [
              "            image  category\n",
              "0     2823080.jpg         1\n",
              "1     2870024.jpg         1\n",
              "2     2662125.jpg         2\n",
              "3     2900420.jpg         3\n",
              "4     2804883.jpg         2\n",
              "...           ...       ...\n",
              "6247  2881056.jpg         3\n",
              "6248  1145083.jpg         2\n",
              "6249  2898652.jpg         5\n",
              "6250  2868175.jpg         3\n",
              "6251  2784171.jpg         1\n",
              "\n",
              "[6252 rows x 2 columns]"
            ]
          },
          "metadata": {
            "tags": []
          },
          "execution_count": 87
        }
      ]
    },
    {
      "cell_type": "code",
      "metadata": {
        "id": "WF4YtsYa_hlo"
      },
      "source": [
        ""
      ],
      "execution_count": null,
      "outputs": []
    },
    {
      "cell_type": "code",
      "metadata": {
        "id": "Nxp3yq-3QQ2I"
      },
      "source": [
        ""
      ],
      "execution_count": null,
      "outputs": []
    },
    {
      "cell_type": "code",
      "metadata": {
        "id": "IWnttkjXfJau"
      },
      "source": [
        "train_labels = pd.read_csv('train/train.csv')\n"
      ],
      "execution_count": 14,
      "outputs": []
    },
    {
      "cell_type": "code",
      "metadata": {
        "colab": {
          "base_uri": "https://localhost:8080/"
        },
        "id": "3J4YUY0vc_iS",
        "outputId": "bf0272e8-014e-44d1-d761-94eabc3bb1da"
      },
      "source": [
        "train_generator= train_generator = ImageDataGenerator().flow_from_csv(\n",
        "        train_data_dir, \n",
        "        target_size=(128, 128), batch_size=32)\n",
        "\n",
        "train_images= next(train_generator)"
      ],
      "execution_count": 41,
      "outputs": [
        {
          "output_type": "stream",
          "text": [
            "Found 8932 images belonging to 1 classes.\n"
          ],
          "name": "stdout"
        }
      ]
    },
    {
      "cell_type": "code",
      "metadata": {
        "colab": {
          "base_uri": "https://localhost:8080/",
          "height": 164
        },
        "id": "eHHqe8L2jkk3",
        "outputId": "2638f634-a2fe-4194-d2d8-1e1001611f0d"
      },
      "source": [
        "np.shape(train_s)"
      ],
      "execution_count": 75,
      "outputs": [
        {
          "output_type": "error",
          "ename": "TypeError",
          "evalue": "ignored",
          "traceback": [
            "\u001b[0;31m---------------------------------------------------------------------------\u001b[0m",
            "\u001b[0;31mTypeError\u001b[0m                                 Traceback (most recent call last)",
            "\u001b[0;32m<ipython-input-75-65f45bbf52c5>\u001b[0m in \u001b[0;36m<module>\u001b[0;34m()\u001b[0m\n\u001b[0;32m----> 1\u001b[0;31m \u001b[0mtrain_images\u001b[0m\u001b[0;34m[\u001b[0m\u001b[0;36m1\u001b[0m\u001b[0;34m]\u001b[0m\u001b[0;34m.\u001b[0m\u001b[0mshape\u001b[0m\u001b[0;34m(\u001b[0m\u001b[0;34m)\u001b[0m\u001b[0;34m\u001b[0m\u001b[0;34m\u001b[0m\u001b[0m\n\u001b[0m",
            "\u001b[0;31mTypeError\u001b[0m: 'tuple' object is not callable"
          ]
        }
      ]
    },
    {
      "cell_type": "code",
      "metadata": {
        "id": "QP4Mk7F9joQk"
      },
      "source": [
        "train_labels_array= np.array(train_labels)\n",
        "train_images"
      ],
      "execution_count": null,
      "outputs": []
    },
    {
      "cell_type": "code",
      "metadata": {
        "colab": {
          "base_uri": "https://localhost:8080/",
          "height": 145
        },
        "id": "X7efQ8OqdLWd",
        "outputId": "8d5727a9-c075-49d5-8133-74c12941ebee"
      },
      "source": [
        "array_to_img(train_images[5])"
      ],
      "execution_count": 36,
      "outputs": [
        {
          "output_type": "execute_result",
          "data": {
            "image/png": "[encoded data removed]",
            "text/plain": [
              "<PIL.Image.Image image mode=RGB size=128x128 at 0x7F27644BAF50>"
            ]
          },
          "metadata": {
            "tags": []
          },
          "execution_count": 36
        }
      ]
    },
    {
      "cell_type": "code",
      "metadata": {
        "colab": {
          "base_uri": "https://localhost:8080/",
          "height": 145
        },
        "id": "McBeaPr2eGgz",
        "outputId": "ab98ee0e-cb4e-4679-c662-65ff8f89bf40"
      },
      "source": [
        "array_to_img(train_images[40])"
      ],
      "execution_count": 37,
      "outputs": [
        {
          "output_type": "execute_result",
          "data": {
            "image/png": "[encoded data removed]",
            "text/plain": [
              "<PIL.Image.Image image mode=RGB size=128x128 at 0x7F276419FC90>"
            ]
          },
          "metadata": {
            "tags": []
          },
          "execution_count": 37
        }
      ]
    },
    {
      "cell_type": "code",
      "metadata": {
        "colab": {
          "base_uri": "https://localhost:8080/"
        },
        "id": "8JQtYfy0eKHR",
        "outputId": "e5d50a85-9e16-4a53-f8ef-b8e7de035483"
      },
      "source": [
        "#looking at shape of train images and labels\n",
        "print(np.shape(train_images))\n",
        "print(np.shape(train_labels))"
      ],
      "execution_count": 21,
      "outputs": [
        {
          "output_type": "stream",
          "text": [
            "(8932, 64, 64, 3)\n",
            "(8932, 1)\n"
          ],
          "name": "stdout"
        }
      ]
    },
    {
      "cell_type": "code",
      "metadata": {
        "colab": {
          "base_uri": "https://localhost:8080/"
        },
        "id": "9HQ3vqwfepoO",
        "outputId": "9cd96157-c6ba-491d-af91-6d61a9111547"
      },
      "source": [
        "train_labels"
      ],
      "execution_count": 24,
      "outputs": [
        {
          "output_type": "execute_result",
          "data": {
            "text/plain": [
              "array([[1.],\n",
              "       [1.],\n",
              "       [1.],\n",
              "       ...,\n",
              "       [1.],\n",
              "       [1.],\n",
              "       [1.]], dtype=float32)"
            ]
          },
          "metadata": {
            "tags": []
          },
          "execution_count": 24
        }
      ]
    },
    {
      "cell_type": "code",
      "metadata": {
        "colab": {
          "base_uri": "https://localhost:8080/",
          "height": 419
        },
        "id": "UWcWq1U0evd9",
        "outputId": "91c511d5-fb1a-4e0d-8a23-8368751d777a"
      },
      "source": [
        "train_labels"
      ],
      "execution_count": 76,
      "outputs": [
        {
          "output_type": "execute_result",
          "data": {
            "text/html": [
              "<div>\n",
              "<style scoped>\n",
              "    .dataframe tbody tr th:only-of-type {\n",
              "        vertical-align: middle;\n",
              "    }\n",
              "\n",
              "    .dataframe tbody tr th {\n",
              "        vertical-align: top;\n",
              "    }\n",
              "\n",
              "    .dataframe thead th {\n",
              "        text-align: right;\n",
              "    }\n",
              "</style>\n",
              "<table border=\"1\" class=\"dataframe\">\n",
              "  <thead>\n",
              "    <tr style=\"text-align: right;\">\n",
              "      <th></th>\n",
              "      <th>image</th>\n",
              "      <th>category</th>\n",
              "    </tr>\n",
              "  </thead>\n",
              "  <tbody>\n",
              "    <tr>\n",
              "      <th>0</th>\n",
              "      <td>2823080.jpg</td>\n",
              "      <td>1</td>\n",
              "    </tr>\n",
              "    <tr>\n",
              "      <th>1</th>\n",
              "      <td>2870024.jpg</td>\n",
              "      <td>1</td>\n",
              "    </tr>\n",
              "    <tr>\n",
              "      <th>2</th>\n",
              "      <td>2662125.jpg</td>\n",
              "      <td>2</td>\n",
              "    </tr>\n",
              "    <tr>\n",
              "      <th>3</th>\n",
              "      <td>2900420.jpg</td>\n",
              "      <td>3</td>\n",
              "    </tr>\n",
              "    <tr>\n",
              "      <th>4</th>\n",
              "      <td>2804883.jpg</td>\n",
              "      <td>2</td>\n",
              "    </tr>\n",
              "    <tr>\n",
              "      <th>...</th>\n",
              "      <td>...</td>\n",
              "      <td>...</td>\n",
              "    </tr>\n",
              "    <tr>\n",
              "      <th>6247</th>\n",
              "      <td>2881056.jpg</td>\n",
              "      <td>3</td>\n",
              "    </tr>\n",
              "    <tr>\n",
              "      <th>6248</th>\n",
              "      <td>1145083.jpg</td>\n",
              "      <td>2</td>\n",
              "    </tr>\n",
              "    <tr>\n",
              "      <th>6249</th>\n",
              "      <td>2898652.jpg</td>\n",
              "      <td>5</td>\n",
              "    </tr>\n",
              "    <tr>\n",
              "      <th>6250</th>\n",
              "      <td>2868175.jpg</td>\n",
              "      <td>3</td>\n",
              "    </tr>\n",
              "    <tr>\n",
              "      <th>6251</th>\n",
              "      <td>2784171.jpg</td>\n",
              "      <td>1</td>\n",
              "    </tr>\n",
              "  </tbody>\n",
              "</table>\n",
              "<p>6252 rows × 2 columns</p>\n",
              "</div>"
            ],
            "text/plain": [
              "            image  category\n",
              "0     2823080.jpg         1\n",
              "1     2870024.jpg         1\n",
              "2     2662125.jpg         2\n",
              "3     2900420.jpg         3\n",
              "4     2804883.jpg         2\n",
              "...           ...       ...\n",
              "6247  2881056.jpg         3\n",
              "6248  1145083.jpg         2\n",
              "6249  2898652.jpg         5\n",
              "6250  2868175.jpg         3\n",
              "6251  2784171.jpg         1\n",
              "\n",
              "[6252 rows x 2 columns]"
            ]
          },
          "metadata": {
            "tags": []
          },
          "execution_count": 76
        }
      ]
    },
    {
      "cell_type": "code",
      "metadata": {
        "colab": {
          "base_uri": "https://localhost:8080/"
        },
        "id": "fG5KAMk1fGL6",
        "outputId": "220f0087-7228-4d1c-c857-34efda0e6c1a"
      },
      "source": [
        "!ls"
      ],
      "execution_count": 30,
      "outputs": [
        {
          "output_type": "stream",
          "text": [
            "kaggle.json  sample_submission_ns2btKE.csv  test_ApKoW4T.csv  train\n"
          ],
          "name": "stdout"
        }
      ]
    },
    {
      "cell_type": "code",
      "metadata": {
        "colab": {
          "base_uri": "https://localhost:8080/"
        },
        "id": "GyVG_iEUfJ8X",
        "outputId": "5a4d790f-1c67-4a87-9203-a68838eebb86"
      },
      "source": [
        ""
      ],
      "execution_count": 29,
      "outputs": [
        {
          "output_type": "stream",
          "text": [
            "kaggle.json  sample_submission_ns2btKE.csv  test_ApKoW4T.csv  train\n"
          ],
          "name": "stdout"
        }
      ]
    },
    {
      "cell_type": "code",
      "metadata": {
        "id": "nJefQUVDfNdn"
      },
      "source": [
        ""
      ],
      "execution_count": null,
      "outputs": []
    }
  ]
}